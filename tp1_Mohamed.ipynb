{
 "cells": [
  {
   "cell_type": "code",
   "execution_count": 175,
   "id": "false-fault",
   "metadata": {},
   "outputs": [],
   "source": [
    "%reload_ext autoreload\n",
    "%autoreload 2\n",
    "%matplotlib inline"
   ]
  },
  {
   "cell_type": "markdown",
   "id": "accessory-donna",
   "metadata": {},
   "source": [
    "### A - Chargement des bibliothèques"
   ]
  },
  {
   "cell_type": "code",
   "execution_count": 239,
   "id": "boolean-riding",
   "metadata": {},
   "outputs": [],
   "source": [
    "\n",
    "from sklearn.model_selection import KFold\n",
    "from sklearn.preprocessing import StandardScaler\n",
    "from sklearn.model_selection import train_test_split\n",
    "from sklearn.preprocessing import scale\n",
    "from sklearn.feature_selection import RFE\n",
    "from sklearn.linear_model import LinearRegression\n",
    "from sklearn.model_selection import cross_val_score\n",
    "from sklearn.model_selection import GridSearchCV\n",
    "from sklearn.pipeline import make_pipeline\n",
    "\n",
    "import warnings # supress warnings\n",
    "warnings.filterwarnings('ignore')\n",
    "from sklearn import metrics as mt\n",
    "import statsmodels.api as sm\n",
    "import scipy.stats as sts\n",
    "import math\n",
    "# Visualisation de données\n",
    "import matplotlib.pyplot as plt\n",
    "import seaborn as sns\n",
    "\n",
    "# Manipulation de données\n",
    "import numpy as np\n",
    "import pandas as pd\n",
    "\n",
    "# Outils divers\n",
    "from tqdm import tqdm\n",
    "from collections import defaultdict\n",
    "from tqdm.notebook import tqdm_notebook\n",
    "%matplotlib inline\n"
   ]
  },
  {
   "cell_type": "code",
   "execution_count": 186,
   "id": "logical-procurement",
   "metadata": {},
   "outputs": [],
   "source": [
    "# Configuration de la visualisation\n",
    "sns.set(style=\"darkgrid\", rc={'figure.figsize':(11.7,8.27)})"
   ]
  },
  {
   "cell_type": "markdown",
   "id": "equivalent-valentine",
   "metadata": {},
   "source": [
    "### B - Lecture les jeux de données ( train.csv)"
   ]
  },
  {
   "cell_type": "code",
   "execution_count": 187,
   "id": "developed-things",
   "metadata": {},
   "outputs": [],
   "source": [
    "train_cols =['x1','x2','x3','x4','x5','x6','x7','x8','x9','x10','x11','x12','x13','x14','x15','x16','x17','x18','x19','y']\n",
    "train_df = pd.read_csv('train.csv', usecols = train_cols)"
   ]
  },
  {
   "cell_type": "markdown",
   "id": "boring-automation",
   "metadata": {},
   "source": [
    "#### B -1 Visualisation et exploration préliminaire de la trame de données d'enrainement (avec les dimensions (train)"
   ]
  },
  {
   "cell_type": "code",
   "execution_count": 188,
   "id": "enabling-duration",
   "metadata": {},
   "outputs": [
    {
     "name": "stdout",
     "output_type": "stream",
     "text": [
      "dimensions train data = (809, 20)\n"
     ]
    },
    {
     "data": {
      "text/html": [
       "<div>\n",
       "<style scoped>\n",
       "    .dataframe tbody tr th:only-of-type {\n",
       "        vertical-align: middle;\n",
       "    }\n",
       "\n",
       "    .dataframe tbody tr th {\n",
       "        vertical-align: top;\n",
       "    }\n",
       "\n",
       "    .dataframe thead th {\n",
       "        text-align: right;\n",
       "    }\n",
       "</style>\n",
       "<table border=\"1\" class=\"dataframe\">\n",
       "  <thead>\n",
       "    <tr style=\"text-align: right;\">\n",
       "      <th></th>\n",
       "      <th>x1</th>\n",
       "      <th>x2</th>\n",
       "      <th>x3</th>\n",
       "      <th>x4</th>\n",
       "      <th>x5</th>\n",
       "      <th>x6</th>\n",
       "      <th>x7</th>\n",
       "      <th>x8</th>\n",
       "      <th>x9</th>\n",
       "      <th>x10</th>\n",
       "      <th>x11</th>\n",
       "      <th>x12</th>\n",
       "      <th>x13</th>\n",
       "      <th>x14</th>\n",
       "      <th>x15</th>\n",
       "      <th>x16</th>\n",
       "      <th>x17</th>\n",
       "      <th>x18</th>\n",
       "      <th>x19</th>\n",
       "      <th>y</th>\n",
       "    </tr>\n",
       "  </thead>\n",
       "  <tbody>\n",
       "    <tr>\n",
       "      <th>0</th>\n",
       "      <td>-10</td>\n",
       "      <td>23.3</td>\n",
       "      <td>UKNW</td>\n",
       "      <td>12.8</td>\n",
       "      <td>296.11856</td>\n",
       "      <td>51.65</td>\n",
       "      <td>31</td>\n",
       "      <td>1021.0</td>\n",
       "      <td>8</td>\n",
       "      <td>-2.989814</td>\n",
       "      <td>0</td>\n",
       "      <td>1.726170</td>\n",
       "      <td>Wednesday</td>\n",
       "      <td>0.0</td>\n",
       "      <td>US</td>\n",
       "      <td>False</td>\n",
       "      <td>36</td>\n",
       "      <td>16.0934</td>\n",
       "      <td>20</td>\n",
       "      <td>-0.316667</td>\n",
       "    </tr>\n",
       "    <tr>\n",
       "      <th>1</th>\n",
       "      <td>-12</td>\n",
       "      <td>26.7</td>\n",
       "      <td>UKNW</td>\n",
       "      <td>21.1</td>\n",
       "      <td>321.86800</td>\n",
       "      <td>71.39</td>\n",
       "      <td>17</td>\n",
       "      <td>1022.0</td>\n",
       "      <td>6</td>\n",
       "      <td>0.799323</td>\n",
       "      <td>8</td>\n",
       "      <td>4.533188</td>\n",
       "      <td>Wednesday</td>\n",
       "      <td>0.0</td>\n",
       "      <td>B6</td>\n",
       "      <td>False</td>\n",
       "      <td>36</td>\n",
       "      <td>16.0934</td>\n",
       "      <td>20</td>\n",
       "      <td>-0.433333</td>\n",
       "    </tr>\n",
       "    <tr>\n",
       "      <th>2</th>\n",
       "      <td>-4</td>\n",
       "      <td>25.6</td>\n",
       "      <td>UKNW</td>\n",
       "      <td>16.7</td>\n",
       "      <td>321.86800</td>\n",
       "      <td>57.87</td>\n",
       "      <td>21</td>\n",
       "      <td>1012.5</td>\n",
       "      <td>7</td>\n",
       "      <td>4.603120</td>\n",
       "      <td>20</td>\n",
       "      <td>7.972838</td>\n",
       "      <td>Sunday</td>\n",
       "      <td>0.0</td>\n",
       "      <td>UA</td>\n",
       "      <td>False</td>\n",
       "      <td>34</td>\n",
       "      <td>16.0934</td>\n",
       "      <td>178</td>\n",
       "      <td>-0.200000</td>\n",
       "    </tr>\n",
       "    <tr>\n",
       "      <th>3</th>\n",
       "      <td>20</td>\n",
       "      <td>22.8</td>\n",
       "      <td>UKNW</td>\n",
       "      <td>12.2</td>\n",
       "      <td>300.94658</td>\n",
       "      <td>51.18</td>\n",
       "      <td>30</td>\n",
       "      <td>1021.5</td>\n",
       "      <td>7</td>\n",
       "      <td>-5.979628</td>\n",
       "      <td>49</td>\n",
       "      <td>3.452340</td>\n",
       "      <td>Tuesday</td>\n",
       "      <td>0.0</td>\n",
       "      <td>B6</td>\n",
       "      <td>False</td>\n",
       "      <td>33</td>\n",
       "      <td>16.0934</td>\n",
       "      <td>200</td>\n",
       "      <td>0.083333</td>\n",
       "    </tr>\n",
       "    <tr>\n",
       "      <th>4</th>\n",
       "      <td>-8</td>\n",
       "      <td>25.6</td>\n",
       "      <td>UKNW</td>\n",
       "      <td>18.3</td>\n",
       "      <td>296.11856</td>\n",
       "      <td>64.03</td>\n",
       "      <td>24</td>\n",
       "      <td>1005.4</td>\n",
       "      <td>8</td>\n",
       "      <td>-11.095607</td>\n",
       "      <td>0</td>\n",
       "      <td>13.223229</td>\n",
       "      <td>Wednesday</td>\n",
       "      <td>0.0</td>\n",
       "      <td>US</td>\n",
       "      <td>False</td>\n",
       "      <td>38</td>\n",
       "      <td>16.0934</td>\n",
       "      <td>20</td>\n",
       "      <td>-0.300000</td>\n",
       "    </tr>\n",
       "  </tbody>\n",
       "</table>\n",
       "</div>"
      ],
      "text/plain": [
       "   x1    x2    x3    x4         x5     x6  x7      x8  x9        x10  x11  \\\n",
       "0 -10  23.3  UKNW  12.8  296.11856  51.65  31  1021.0   8  -2.989814    0   \n",
       "1 -12  26.7  UKNW  21.1  321.86800  71.39  17  1022.0   6   0.799323    8   \n",
       "2  -4  25.6  UKNW  16.7  321.86800  57.87  21  1012.5   7   4.603120   20   \n",
       "3  20  22.8  UKNW  12.2  300.94658  51.18  30  1021.5   7  -5.979628   49   \n",
       "4  -8  25.6  UKNW  18.3  296.11856  64.03  24  1005.4   8 -11.095607    0   \n",
       "\n",
       "         x12        x13  x14 x15    x16  x17      x18  x19         y  \n",
       "0   1.726170  Wednesday  0.0  US  False   36  16.0934   20 -0.316667  \n",
       "1   4.533188  Wednesday  0.0  B6  False   36  16.0934   20 -0.433333  \n",
       "2   7.972838     Sunday  0.0  UA  False   34  16.0934  178 -0.200000  \n",
       "3   3.452340    Tuesday  0.0  B6  False   33  16.0934  200  0.083333  \n",
       "4  13.223229  Wednesday  0.0  US  False   38  16.0934   20 -0.300000  "
      ]
     },
     "execution_count": 188,
     "metadata": {},
     "output_type": "execute_result"
    }
   ],
   "source": [
    "dimensions_train_data = print(f'dimensions train data = {train_df.shape}')\n",
    "train_df.head()"
   ]
  },
  {
   "cell_type": "markdown",
   "id": "swiss-flush",
   "metadata": {},
   "source": [
    "#### B - 2 Exploration les valeurs possibles des variables de type catégorie"
   ]
  },
  {
   "cell_type": "code",
   "execution_count": 189,
   "id": "important-welsh",
   "metadata": {},
   "outputs": [
    {
     "data": {
      "text/plain": [
       "array(['UKNW'], dtype=object)"
      ]
     },
     "execution_count": 189,
     "metadata": {},
     "output_type": "execute_result"
    }
   ],
   "source": [
    "train_df[\"x3\"].unique()"
   ]
  },
  {
   "cell_type": "code",
   "execution_count": 190,
   "id": "collected-cleaning",
   "metadata": {},
   "outputs": [],
   "source": [
    "# Décision prise de supprimer cette variable avec une seule valeur ('UKNW')\n",
    "train_df = train_df.drop('x3',1)"
   ]
  },
  {
   "cell_type": "code",
   "execution_count": 191,
   "id": "amber-transsexual",
   "metadata": {},
   "outputs": [
    {
     "data": {
      "text/plain": [
       "array([False,  True])"
      ]
     },
     "execution_count": 191,
     "metadata": {},
     "output_type": "execute_result"
    }
   ],
   "source": [
    "train_df[\"x16\"].unique()"
   ]
  },
  {
   "cell_type": "markdown",
   "id": "cardiac-arkansas",
   "metadata": {},
   "source": [
    "### C - Séparation les variables explicatives et la variable expliquée "
   ]
  },
  {
   "cell_type": "code",
   "execution_count": 193,
   "id": "geographic-value",
   "metadata": {},
   "outputs": [],
   "source": [
    "X=train_df.drop({'y'}, 1)\n",
    "Y = train_df['y']"
   ]
  },
  {
   "cell_type": "markdown",
   "id": "electric-circular",
   "metadata": {},
   "source": [
    "#### C - 1 Séléction des variables explicatives à base du tableau de synthése (seuil: p-value < 5%) - 1ere itération"
   ]
  },
  {
   "cell_type": "code",
   "execution_count": 54,
   "id": "large-documentation",
   "metadata": {},
   "outputs": [
    {
     "data": {
      "text/html": [
       "<table class=\"simpletable\">\n",
       "<caption>OLS Regression Results</caption>\n",
       "<tr>\n",
       "  <th>Dep. Variable:</th>            <td>y</td>        <th>  R-squared:         </th> <td>   0.929</td>\n",
       "</tr>\n",
       "<tr>\n",
       "  <th>Model:</th>                   <td>OLS</td>       <th>  Adj. R-squared:    </th> <td>   0.926</td>\n",
       "</tr>\n",
       "<tr>\n",
       "  <th>Method:</th>             <td>Least Squares</td>  <th>  F-statistic:       </th> <td>   364.7</td>\n",
       "</tr>\n",
       "<tr>\n",
       "  <th>Date:</th>             <td>Thu, 20 May 2021</td> <th>  Prob (F-statistic):</th>  <td>  0.00</td> \n",
       "</tr>\n",
       "<tr>\n",
       "  <th>Time:</th>                 <td>20:06:38</td>     <th>  Log-Likelihood:    </th> <td> -77.779</td>\n",
       "</tr>\n",
       "<tr>\n",
       "  <th>No. Observations:</th>      <td>   809</td>      <th>  AIC:               </th> <td>   213.6</td>\n",
       "</tr>\n",
       "<tr>\n",
       "  <th>Df Residuals:</th>          <td>   780</td>      <th>  BIC:               </th> <td>   349.7</td>\n",
       "</tr>\n",
       "<tr>\n",
       "  <th>Df Model:</th>              <td>    28</td>      <th>                     </th>     <td> </td>   \n",
       "</tr>\n",
       "<tr>\n",
       "  <th>Covariance Type:</th>      <td>nonrobust</td>    <th>                     </th>     <td> </td>   \n",
       "</tr>\n",
       "</table>\n",
       "<table class=\"simpletable\">\n",
       "<tr>\n",
       "        <td></td>           <th>coef</th>     <th>std err</th>      <th>t</th>      <th>P>|t|</th>  <th>[0.025</th>    <th>0.975]</th>  \n",
       "</tr>\n",
       "<tr>\n",
       "  <th>x1</th>            <td>    0.9261</td> <td>    0.011</td> <td>   84.933</td> <td> 0.000</td> <td>    0.905</td> <td>    0.948</td>\n",
       "</tr>\n",
       "<tr>\n",
       "  <th>x2</th>            <td>   -0.0298</td> <td>    0.067</td> <td>   -0.443</td> <td> 0.658</td> <td>   -0.162</td> <td>    0.102</td>\n",
       "</tr>\n",
       "<tr>\n",
       "  <th>x4</th>            <td>    0.0179</td> <td>    0.063</td> <td>    0.285</td> <td> 0.776</td> <td>   -0.105</td> <td>    0.141</td>\n",
       "</tr>\n",
       "<tr>\n",
       "  <th>x5</th>            <td>    0.0097</td> <td>    0.019</td> <td>    0.504</td> <td> 0.614</td> <td>   -0.028</td> <td>    0.047</td>\n",
       "</tr>\n",
       "<tr>\n",
       "  <th>x6</th>            <td>   -0.0416</td> <td>    0.074</td> <td>   -0.559</td> <td> 0.576</td> <td>   -0.188</td> <td>    0.104</td>\n",
       "</tr>\n",
       "<tr>\n",
       "  <th>x7</th>            <td>   -0.0146</td> <td>    0.014</td> <td>   -1.073</td> <td> 0.284</td> <td>   -0.041</td> <td>    0.012</td>\n",
       "</tr>\n",
       "<tr>\n",
       "  <th>x8</th>            <td>   -0.0380</td> <td>    0.011</td> <td>   -3.355</td> <td> 0.001</td> <td>   -0.060</td> <td>   -0.016</td>\n",
       "</tr>\n",
       "<tr>\n",
       "  <th>x9</th>            <td>    0.0243</td> <td>    0.011</td> <td>    2.195</td> <td> 0.028</td> <td>    0.003</td> <td>    0.046</td>\n",
       "</tr>\n",
       "<tr>\n",
       "  <th>x10</th>           <td>    0.0373</td> <td>    0.012</td> <td>    3.224</td> <td> 0.001</td> <td>    0.015</td> <td>    0.060</td>\n",
       "</tr>\n",
       "<tr>\n",
       "  <th>x11</th>           <td>    0.0177</td> <td>    0.013</td> <td>    1.389</td> <td> 0.165</td> <td>   -0.007</td> <td>    0.043</td>\n",
       "</tr>\n",
       "<tr>\n",
       "  <th>x12</th>           <td>    0.0095</td> <td>    0.012</td> <td>    0.768</td> <td> 0.443</td> <td>   -0.015</td> <td>    0.034</td>\n",
       "</tr>\n",
       "<tr>\n",
       "  <th>x14</th>           <td>    0.0427</td> <td>    0.016</td> <td>    2.698</td> <td> 0.007</td> <td>    0.012</td> <td>    0.074</td>\n",
       "</tr>\n",
       "<tr>\n",
       "  <th>x16</th>           <td>   -0.0017</td> <td>    0.016</td> <td>   -0.108</td> <td> 0.914</td> <td>   -0.032</td> <td>    0.029</td>\n",
       "</tr>\n",
       "<tr>\n",
       "  <th>x17</th>           <td>    0.1274</td> <td>    0.011</td> <td>   11.846</td> <td> 0.000</td> <td>    0.106</td> <td>    0.149</td>\n",
       "</tr>\n",
       "<tr>\n",
       "  <th>x18</th>           <td>   -0.0142</td> <td>    0.011</td> <td>   -1.315</td> <td> 0.189</td> <td>   -0.035</td> <td>    0.007</td>\n",
       "</tr>\n",
       "<tr>\n",
       "  <th>x19</th>           <td>   -0.0265</td> <td>    0.028</td> <td>   -0.946</td> <td> 0.344</td> <td>   -0.082</td> <td>    0.029</td>\n",
       "</tr>\n",
       "<tr>\n",
       "  <th>x13_Friday</th>    <td>   -0.0050</td> <td>    0.008</td> <td>   -0.591</td> <td> 0.555</td> <td>   -0.022</td> <td>    0.012</td>\n",
       "</tr>\n",
       "<tr>\n",
       "  <th>x13_Monday</th>    <td>    0.0051</td> <td>    0.008</td> <td>    0.621</td> <td> 0.535</td> <td>   -0.011</td> <td>    0.021</td>\n",
       "</tr>\n",
       "<tr>\n",
       "  <th>x13_Saturday</th>  <td>   -0.0211</td> <td>    0.010</td> <td>   -2.212</td> <td> 0.027</td> <td>   -0.040</td> <td>   -0.002</td>\n",
       "</tr>\n",
       "<tr>\n",
       "  <th>x13_Sunday</th>    <td>    0.0021</td> <td>    0.009</td> <td>    0.233</td> <td> 0.816</td> <td>   -0.015</td> <td>    0.020</td>\n",
       "</tr>\n",
       "<tr>\n",
       "  <th>x13_Thursday</th>  <td>   -0.0126</td> <td>    0.009</td> <td>   -1.441</td> <td> 0.150</td> <td>   -0.030</td> <td>    0.005</td>\n",
       "</tr>\n",
       "<tr>\n",
       "  <th>x13_Tuesday</th>   <td>    0.0254</td> <td>    0.008</td> <td>    3.128</td> <td> 0.002</td> <td>    0.009</td> <td>    0.041</td>\n",
       "</tr>\n",
       "<tr>\n",
       "  <th>x13_Wednesday</th> <td>   -0.0029</td> <td>    0.008</td> <td>   -0.364</td> <td> 0.716</td> <td>   -0.018</td> <td>    0.013</td>\n",
       "</tr>\n",
       "<tr>\n",
       "  <th>x15_9E</th>        <td>   -0.0255</td> <td>    0.010</td> <td>   -2.598</td> <td> 0.010</td> <td>   -0.045</td> <td>   -0.006</td>\n",
       "</tr>\n",
       "<tr>\n",
       "  <th>x15_AA</th>        <td>   -0.0075</td> <td>    0.010</td> <td>   -0.763</td> <td> 0.446</td> <td>   -0.027</td> <td>    0.012</td>\n",
       "</tr>\n",
       "<tr>\n",
       "  <th>x15_B6</th>        <td>   -0.0064</td> <td>    0.013</td> <td>   -0.478</td> <td> 0.633</td> <td>   -0.033</td> <td>    0.020</td>\n",
       "</tr>\n",
       "<tr>\n",
       "  <th>x15_DL</th>        <td>   -0.0157</td> <td>    0.012</td> <td>   -1.278</td> <td> 0.202</td> <td>   -0.040</td> <td>    0.008</td>\n",
       "</tr>\n",
       "<tr>\n",
       "  <th>x15_EV</th>        <td>   -0.0033</td> <td>    0.010</td> <td>   -0.319</td> <td> 0.750</td> <td>   -0.023</td> <td>    0.017</td>\n",
       "</tr>\n",
       "<tr>\n",
       "  <th>x15_UA</th>        <td>   -0.0335</td> <td>    0.020</td> <td>   -1.684</td> <td> 0.093</td> <td>   -0.073</td> <td>    0.006</td>\n",
       "</tr>\n",
       "<tr>\n",
       "  <th>x15_US</th>        <td>    0.0599</td> <td>    0.016</td> <td>    3.716</td> <td> 0.000</td> <td>    0.028</td> <td>    0.092</td>\n",
       "</tr>\n",
       "<tr>\n",
       "  <th>const</th>         <td>-2.134e-16</td> <td>    0.010</td> <td>-2.24e-14</td> <td> 1.000</td> <td>   -0.019</td> <td>    0.019</td>\n",
       "</tr>\n",
       "</table>\n",
       "<table class=\"simpletable\">\n",
       "<tr>\n",
       "  <th>Omnibus:</th>       <td>287.708</td> <th>  Durbin-Watson:     </th> <td>   2.100</td> \n",
       "</tr>\n",
       "<tr>\n",
       "  <th>Prob(Omnibus):</th> <td> 0.000</td>  <th>  Jarque-Bera (JB):  </th> <td>1109.694</td> \n",
       "</tr>\n",
       "<tr>\n",
       "  <th>Skew:</th>          <td> 1.655</td>  <th>  Prob(JB):          </th> <td>1.08e-241</td>\n",
       "</tr>\n",
       "<tr>\n",
       "  <th>Kurtosis:</th>      <td> 7.687</td>  <th>  Cond. No.          </th> <td>6.13e+15</td> \n",
       "</tr>\n",
       "</table><br/><br/>Notes:<br/>[1] Standard Errors assume that the covariance matrix of the errors is correctly specified.<br/>[2] The smallest eigenvalue is 7.12e-29. This might indicate that there are<br/>strong multicollinearity problems or that the design matrix is singular."
      ],
      "text/plain": [
       "<class 'statsmodels.iolib.summary.Summary'>\n",
       "\"\"\"\n",
       "                            OLS Regression Results                            \n",
       "==============================================================================\n",
       "Dep. Variable:                      y   R-squared:                       0.929\n",
       "Model:                            OLS   Adj. R-squared:                  0.926\n",
       "Method:                 Least Squares   F-statistic:                     364.7\n",
       "Date:                Thu, 20 May 2021   Prob (F-statistic):               0.00\n",
       "Time:                        20:06:38   Log-Likelihood:                -77.779\n",
       "No. Observations:                 809   AIC:                             213.6\n",
       "Df Residuals:                     780   BIC:                             349.7\n",
       "Df Model:                          28                                         \n",
       "Covariance Type:            nonrobust                                         \n",
       "=================================================================================\n",
       "                    coef    std err          t      P>|t|      [0.025      0.975]\n",
       "---------------------------------------------------------------------------------\n",
       "x1                0.9261      0.011     84.933      0.000       0.905       0.948\n",
       "x2               -0.0298      0.067     -0.443      0.658      -0.162       0.102\n",
       "x4                0.0179      0.063      0.285      0.776      -0.105       0.141\n",
       "x5                0.0097      0.019      0.504      0.614      -0.028       0.047\n",
       "x6               -0.0416      0.074     -0.559      0.576      -0.188       0.104\n",
       "x7               -0.0146      0.014     -1.073      0.284      -0.041       0.012\n",
       "x8               -0.0380      0.011     -3.355      0.001      -0.060      -0.016\n",
       "x9                0.0243      0.011      2.195      0.028       0.003       0.046\n",
       "x10               0.0373      0.012      3.224      0.001       0.015       0.060\n",
       "x11               0.0177      0.013      1.389      0.165      -0.007       0.043\n",
       "x12               0.0095      0.012      0.768      0.443      -0.015       0.034\n",
       "x14               0.0427      0.016      2.698      0.007       0.012       0.074\n",
       "x16              -0.0017      0.016     -0.108      0.914      -0.032       0.029\n",
       "x17               0.1274      0.011     11.846      0.000       0.106       0.149\n",
       "x18              -0.0142      0.011     -1.315      0.189      -0.035       0.007\n",
       "x19              -0.0265      0.028     -0.946      0.344      -0.082       0.029\n",
       "x13_Friday       -0.0050      0.008     -0.591      0.555      -0.022       0.012\n",
       "x13_Monday        0.0051      0.008      0.621      0.535      -0.011       0.021\n",
       "x13_Saturday     -0.0211      0.010     -2.212      0.027      -0.040      -0.002\n",
       "x13_Sunday        0.0021      0.009      0.233      0.816      -0.015       0.020\n",
       "x13_Thursday     -0.0126      0.009     -1.441      0.150      -0.030       0.005\n",
       "x13_Tuesday       0.0254      0.008      3.128      0.002       0.009       0.041\n",
       "x13_Wednesday    -0.0029      0.008     -0.364      0.716      -0.018       0.013\n",
       "x15_9E           -0.0255      0.010     -2.598      0.010      -0.045      -0.006\n",
       "x15_AA           -0.0075      0.010     -0.763      0.446      -0.027       0.012\n",
       "x15_B6           -0.0064      0.013     -0.478      0.633      -0.033       0.020\n",
       "x15_DL           -0.0157      0.012     -1.278      0.202      -0.040       0.008\n",
       "x15_EV           -0.0033      0.010     -0.319      0.750      -0.023       0.017\n",
       "x15_UA           -0.0335      0.020     -1.684      0.093      -0.073       0.006\n",
       "x15_US            0.0599      0.016      3.716      0.000       0.028       0.092\n",
       "const         -2.134e-16      0.010  -2.24e-14      1.000      -0.019       0.019\n",
       "==============================================================================\n",
       "Omnibus:                      287.708   Durbin-Watson:                   2.100\n",
       "Prob(Omnibus):                  0.000   Jarque-Bera (JB):             1109.694\n",
       "Skew:                           1.655   Prob(JB):                    1.08e-241\n",
       "Kurtosis:                       7.687   Cond. No.                     6.13e+15\n",
       "==============================================================================\n",
       "\n",
       "Notes:\n",
       "[1] Standard Errors assume that the covariance matrix of the errors is correctly specified.\n",
       "[2] The smallest eigenvalue is 7.12e-29. This might indicate that there are\n",
       "strong multicollinearity problems or that the design matrix is singular.\n",
       "\"\"\""
      ]
     },
     "execution_count": 54,
     "metadata": {},
     "output_type": "execute_result"
    }
   ],
   "source": [
    "\n",
    "X=pd.get_dummies(X)\n",
    "from sklearn.preprocessing import StandardScaler\n",
    "scalerX = StandardScaler()\n",
    "Xstand = scalerX.fit_transform(X.values)\n",
    "scalerY = StandardScaler()\n",
    "Ystand = scalerY.fit_transform(Y.values.reshape(-1,1))\n",
    "Xstand=pd.DataFrame(Xstand)\n",
    "Xstand.columns=X.columns\n",
    "Xstand.index=X.index\n",
    "Ystand=pd.DataFrame(Ystand)\n",
    "Ystand.columns=[\"y\"]\n",
    "\n",
    "modele=sm.OLS(Ystand,Xstand.assign(const=1))\n",
    "resultats=modele.fit()\n",
    "Y_chap = resultats.predict(Xstand.assign(const=1))\n",
    "resultats.summary()\n"
   ]
  },
  {
   "cell_type": "markdown",
   "id": "sublime-gathering",
   "metadata": {},
   "source": [
    "#### C - 2 Séléction des variables explicatives à base du tableau de synthése (seuil: p-value < 5%) - 2ere itération (Aprés la supprission des variables dont leurs p-valus > 5%)"
   ]
  },
  {
   "cell_type": "code",
   "execution_count": 10,
   "id": "configured-immunology",
   "metadata": {},
   "outputs": [],
   "source": [
    "train_df1 = X.drop({'x2','x4','x6','x11','x12','x13_Friday','x13_Monday','x13_Sunday','x13_Wednesday','x15_AA','x15_B6','x15_DL','x15_EV','x15_UA','x16','x18','x19'},axis= 1)"
   ]
  },
  {
   "cell_type": "code",
   "execution_count": 11,
   "id": "helpful-flood",
   "metadata": {},
   "outputs": [
    {
     "name": "stdout",
     "output_type": "stream",
     "text": [
      "dimensions train data = (809, 13)\n"
     ]
    },
    {
     "data": {
      "text/html": [
       "<table class=\"simpletable\">\n",
       "<caption>OLS Regression Results</caption>\n",
       "<tr>\n",
       "  <th>Dep. Variable:</th>            <td>y</td>        <th>  R-squared:         </th> <td>   0.927</td>\n",
       "</tr>\n",
       "<tr>\n",
       "  <th>Model:</th>                   <td>OLS</td>       <th>  Adj. R-squared:    </th> <td>   0.925</td>\n",
       "</tr>\n",
       "<tr>\n",
       "  <th>Method:</th>             <td>Least Squares</td>  <th>  F-statistic:       </th> <td>   772.0</td>\n",
       "</tr>\n",
       "<tr>\n",
       "  <th>Date:</th>             <td>Thu, 20 May 2021</td> <th>  Prob (F-statistic):</th>  <td>  0.00</td> \n",
       "</tr>\n",
       "<tr>\n",
       "  <th>Time:</th>                 <td>18:52:43</td>     <th>  Log-Likelihood:    </th> <td> -91.426</td>\n",
       "</tr>\n",
       "<tr>\n",
       "  <th>No. Observations:</th>      <td>   809</td>      <th>  AIC:               </th> <td>   210.9</td>\n",
       "</tr>\n",
       "<tr>\n",
       "  <th>Df Residuals:</th>          <td>   795</td>      <th>  BIC:               </th> <td>   276.6</td>\n",
       "</tr>\n",
       "<tr>\n",
       "  <th>Df Model:</th>              <td>    13</td>      <th>                     </th>     <td> </td>   \n",
       "</tr>\n",
       "<tr>\n",
       "  <th>Covariance Type:</th>      <td>nonrobust</td>    <th>                     </th>     <td> </td>   \n",
       "</tr>\n",
       "</table>\n",
       "<table class=\"simpletable\">\n",
       "<tr>\n",
       "        <td></td>          <th>coef</th>     <th>std err</th>      <th>t</th>      <th>P>|t|</th>  <th>[0.025</th>    <th>0.975]</th>  \n",
       "</tr>\n",
       "<tr>\n",
       "  <th>x1</th>           <td>    0.9278</td> <td>    0.011</td> <td>   86.376</td> <td> 0.000</td> <td>    0.907</td> <td>    0.949</td>\n",
       "</tr>\n",
       "<tr>\n",
       "  <th>x5</th>           <td>   -0.0054</td> <td>    0.013</td> <td>   -0.413</td> <td> 0.680</td> <td>   -0.031</td> <td>    0.020</td>\n",
       "</tr>\n",
       "<tr>\n",
       "  <th>x7</th>           <td>   -0.0041</td> <td>    0.010</td> <td>   -0.406</td> <td> 0.685</td> <td>   -0.024</td> <td>    0.016</td>\n",
       "</tr>\n",
       "<tr>\n",
       "  <th>x8</th>           <td>   -0.0335</td> <td>    0.011</td> <td>   -3.072</td> <td> 0.002</td> <td>   -0.055</td> <td>   -0.012</td>\n",
       "</tr>\n",
       "<tr>\n",
       "  <th>x9</th>           <td>    0.0249</td> <td>    0.010</td> <td>    2.450</td> <td> 0.014</td> <td>    0.005</td> <td>    0.045</td>\n",
       "</tr>\n",
       "<tr>\n",
       "  <th>x10</th>          <td>    0.0371</td> <td>    0.010</td> <td>    3.621</td> <td> 0.000</td> <td>    0.017</td> <td>    0.057</td>\n",
       "</tr>\n",
       "<tr>\n",
       "  <th>x14</th>          <td>    0.0442</td> <td>    0.010</td> <td>    4.461</td> <td> 0.000</td> <td>    0.025</td> <td>    0.064</td>\n",
       "</tr>\n",
       "<tr>\n",
       "  <th>x17</th>          <td>    0.1273</td> <td>    0.010</td> <td>   12.303</td> <td> 0.000</td> <td>    0.107</td> <td>    0.148</td>\n",
       "</tr>\n",
       "<tr>\n",
       "  <th>x13_Saturday</th> <td>   -0.0182</td> <td>    0.010</td> <td>   -1.843</td> <td> 0.066</td> <td>   -0.038</td> <td>    0.001</td>\n",
       "</tr>\n",
       "<tr>\n",
       "  <th>x13_Thursday</th> <td>   -0.0082</td> <td>    0.010</td> <td>   -0.819</td> <td> 0.413</td> <td>   -0.028</td> <td>    0.011</td>\n",
       "</tr>\n",
       "<tr>\n",
       "  <th>x13_Tuesday</th>  <td>    0.0289</td> <td>    0.010</td> <td>    2.904</td> <td> 0.004</td> <td>    0.009</td> <td>    0.048</td>\n",
       "</tr>\n",
       "<tr>\n",
       "  <th>x15_9E</th>       <td>   -0.0222</td> <td>    0.010</td> <td>   -2.203</td> <td> 0.028</td> <td>   -0.042</td> <td>   -0.002</td>\n",
       "</tr>\n",
       "<tr>\n",
       "  <th>x15_US</th>       <td>    0.0741</td> <td>    0.013</td> <td>    5.653</td> <td> 0.000</td> <td>    0.048</td> <td>    0.100</td>\n",
       "</tr>\n",
       "<tr>\n",
       "  <th>const</th>        <td>-6.939e-17</td> <td>    0.010</td> <td>-7.22e-15</td> <td> 1.000</td> <td>   -0.019</td> <td>    0.019</td>\n",
       "</tr>\n",
       "</table>\n",
       "<table class=\"simpletable\">\n",
       "<tr>\n",
       "  <th>Omnibus:</th>       <td>258.812</td> <th>  Durbin-Watson:     </th> <td>   2.101</td> \n",
       "</tr>\n",
       "<tr>\n",
       "  <th>Prob(Omnibus):</th> <td> 0.000</td>  <th>  Jarque-Bera (JB):  </th> <td> 874.280</td> \n",
       "</tr>\n",
       "<tr>\n",
       "  <th>Skew:</th>          <td> 1.526</td>  <th>  Prob(JB):          </th> <td>1.42e-190</td>\n",
       "</tr>\n",
       "<tr>\n",
       "  <th>Kurtosis:</th>      <td> 7.077</td>  <th>  Cond. No.          </th> <td>    2.48</td> \n",
       "</tr>\n",
       "</table><br/><br/>Notes:<br/>[1] Standard Errors assume that the covariance matrix of the errors is correctly specified."
      ],
      "text/plain": [
       "<class 'statsmodels.iolib.summary.Summary'>\n",
       "\"\"\"\n",
       "                            OLS Regression Results                            \n",
       "==============================================================================\n",
       "Dep. Variable:                      y   R-squared:                       0.927\n",
       "Model:                            OLS   Adj. R-squared:                  0.925\n",
       "Method:                 Least Squares   F-statistic:                     772.0\n",
       "Date:                Thu, 20 May 2021   Prob (F-statistic):               0.00\n",
       "Time:                        18:52:43   Log-Likelihood:                -91.426\n",
       "No. Observations:                 809   AIC:                             210.9\n",
       "Df Residuals:                     795   BIC:                             276.6\n",
       "Df Model:                          13                                         \n",
       "Covariance Type:            nonrobust                                         \n",
       "================================================================================\n",
       "                   coef    std err          t      P>|t|      [0.025      0.975]\n",
       "--------------------------------------------------------------------------------\n",
       "x1               0.9278      0.011     86.376      0.000       0.907       0.949\n",
       "x5              -0.0054      0.013     -0.413      0.680      -0.031       0.020\n",
       "x7              -0.0041      0.010     -0.406      0.685      -0.024       0.016\n",
       "x8              -0.0335      0.011     -3.072      0.002      -0.055      -0.012\n",
       "x9               0.0249      0.010      2.450      0.014       0.005       0.045\n",
       "x10              0.0371      0.010      3.621      0.000       0.017       0.057\n",
       "x14              0.0442      0.010      4.461      0.000       0.025       0.064\n",
       "x17              0.1273      0.010     12.303      0.000       0.107       0.148\n",
       "x13_Saturday    -0.0182      0.010     -1.843      0.066      -0.038       0.001\n",
       "x13_Thursday    -0.0082      0.010     -0.819      0.413      -0.028       0.011\n",
       "x13_Tuesday      0.0289      0.010      2.904      0.004       0.009       0.048\n",
       "x15_9E          -0.0222      0.010     -2.203      0.028      -0.042      -0.002\n",
       "x15_US           0.0741      0.013      5.653      0.000       0.048       0.100\n",
       "const        -6.939e-17      0.010  -7.22e-15      1.000      -0.019       0.019\n",
       "==============================================================================\n",
       "Omnibus:                      258.812   Durbin-Watson:                   2.101\n",
       "Prob(Omnibus):                  0.000   Jarque-Bera (JB):              874.280\n",
       "Skew:                           1.526   Prob(JB):                    1.42e-190\n",
       "Kurtosis:                       7.077   Cond. No.                         2.48\n",
       "==============================================================================\n",
       "\n",
       "Notes:\n",
       "[1] Standard Errors assume that the covariance matrix of the errors is correctly specified.\n",
       "\"\"\""
      ]
     },
     "execution_count": 11,
     "metadata": {},
     "output_type": "execute_result"
    }
   ],
   "source": [
    "dimensions_train_data = print(f'dimensions train data = {train_df1.shape}')\n",
    "\n",
    "\n",
    "Y=train_df[\"y\"]\n",
    "#train_df1=pd.get_dummies(train_df1)\n",
    "from sklearn.preprocessing import StandardScaler\n",
    "scalerX = StandardScaler()\n",
    "Xstand = scalerX.fit_transform(train_df1.values)\n",
    "scalerY = StandardScaler()\n",
    "Ystand = scalerY.fit_transform(Y.values.reshape(-1,1))\n",
    "Xstand=pd.DataFrame(Xstand)\n",
    "Xstand.columns=train_df1.columns\n",
    "Xstand.index=train_df1.index\n",
    "Ystand=pd.DataFrame(Ystand)\n",
    "Ystand.columns=[\"y\"]\n",
    "\n",
    "modele=sm.OLS(Ystand,Xstand.assign(const=1))\n",
    "resultats=modele.fit()\n",
    "Y_chap = resultats.predict(Xstand.assign(const=1))\n",
    "resultats.summary()\n",
    "\n",
    "#y_baseline = Y_train.mean()"
   ]
  },
  {
   "cell_type": "markdown",
   "id": "informed-flower",
   "metadata": {},
   "source": [
    "#### C - 3 Séléction des variables explicatives à base du tableau de synthése (seuil: p-value < 5%) - 3ème itération (Aprés la supprission des variables dont leurs p-valus > 5%)"
   ]
  },
  {
   "cell_type": "code",
   "execution_count": 12,
   "id": "later-arlington",
   "metadata": {},
   "outputs": [
    {
     "name": "stdout",
     "output_type": "stream",
     "text": [
      "dimensions train data = (809, 11)\n"
     ]
    },
    {
     "data": {
      "text/html": [
       "<table class=\"simpletable\">\n",
       "<caption>OLS Regression Results</caption>\n",
       "<tr>\n",
       "  <th>Dep. Variable:</th>            <td>y</td>        <th>  R-squared:         </th> <td>   0.927</td>\n",
       "</tr>\n",
       "<tr>\n",
       "  <th>Model:</th>                   <td>OLS</td>       <th>  Adj. R-squared:    </th> <td>   0.926</td>\n",
       "</tr>\n",
       "<tr>\n",
       "  <th>Method:</th>             <td>Least Squares</td>  <th>  F-statistic:       </th> <td>   914.3</td>\n",
       "</tr>\n",
       "<tr>\n",
       "  <th>Date:</th>             <td>Thu, 20 May 2021</td> <th>  Prob (F-statistic):</th>  <td>  0.00</td> \n",
       "</tr>\n",
       "<tr>\n",
       "  <th>Time:</th>                 <td>18:52:43</td>     <th>  Log-Likelihood:    </th> <td> -91.602</td>\n",
       "</tr>\n",
       "<tr>\n",
       "  <th>No. Observations:</th>      <td>   809</td>      <th>  AIC:               </th> <td>   207.2</td>\n",
       "</tr>\n",
       "<tr>\n",
       "  <th>Df Residuals:</th>          <td>   797</td>      <th>  BIC:               </th> <td>   263.6</td>\n",
       "</tr>\n",
       "<tr>\n",
       "  <th>Df Model:</th>              <td>    11</td>      <th>                     </th>     <td> </td>   \n",
       "</tr>\n",
       "<tr>\n",
       "  <th>Covariance Type:</th>      <td>nonrobust</td>    <th>                     </th>     <td> </td>   \n",
       "</tr>\n",
       "</table>\n",
       "<table class=\"simpletable\">\n",
       "<tr>\n",
       "        <td></td>          <th>coef</th>     <th>std err</th>      <th>t</th>      <th>P>|t|</th>  <th>[0.025</th>    <th>0.975]</th>  \n",
       "</tr>\n",
       "<tr>\n",
       "  <th>x1</th>           <td>    0.9287</td> <td>    0.011</td> <td>   87.401</td> <td> 0.000</td> <td>    0.908</td> <td>    0.950</td>\n",
       "</tr>\n",
       "<tr>\n",
       "  <th>x8</th>           <td>   -0.0320</td> <td>    0.010</td> <td>   -3.073</td> <td> 0.002</td> <td>   -0.052</td> <td>   -0.012</td>\n",
       "</tr>\n",
       "<tr>\n",
       "  <th>x9</th>           <td>    0.0252</td> <td>    0.010</td> <td>    2.496</td> <td> 0.013</td> <td>    0.005</td> <td>    0.045</td>\n",
       "</tr>\n",
       "<tr>\n",
       "  <th>x10</th>          <td>    0.0373</td> <td>    0.010</td> <td>    3.696</td> <td> 0.000</td> <td>    0.017</td> <td>    0.057</td>\n",
       "</tr>\n",
       "<tr>\n",
       "  <th>x14</th>          <td>    0.0444</td> <td>    0.010</td> <td>    4.482</td> <td> 0.000</td> <td>    0.025</td> <td>    0.064</td>\n",
       "</tr>\n",
       "<tr>\n",
       "  <th>x17</th>          <td>    0.1272</td> <td>    0.010</td> <td>   12.495</td> <td> 0.000</td> <td>    0.107</td> <td>    0.147</td>\n",
       "</tr>\n",
       "<tr>\n",
       "  <th>x13_Saturday</th> <td>   -0.0180</td> <td>    0.010</td> <td>   -1.831</td> <td> 0.067</td> <td>   -0.037</td> <td>    0.001</td>\n",
       "</tr>\n",
       "<tr>\n",
       "  <th>x13_Thursday</th> <td>   -0.0077</td> <td>    0.010</td> <td>   -0.782</td> <td> 0.435</td> <td>   -0.027</td> <td>    0.012</td>\n",
       "</tr>\n",
       "<tr>\n",
       "  <th>x13_Tuesday</th>  <td>    0.0288</td> <td>    0.010</td> <td>    2.899</td> <td> 0.004</td> <td>    0.009</td> <td>    0.048</td>\n",
       "</tr>\n",
       "<tr>\n",
       "  <th>x15_9E</th>       <td>   -0.0217</td> <td>    0.010</td> <td>   -2.180</td> <td> 0.030</td> <td>   -0.041</td> <td>   -0.002</td>\n",
       "</tr>\n",
       "<tr>\n",
       "  <th>x15_US</th>       <td>    0.0776</td> <td>    0.010</td> <td>    7.686</td> <td> 0.000</td> <td>    0.058</td> <td>    0.097</td>\n",
       "</tr>\n",
       "<tr>\n",
       "  <th>const</th>        <td>-1.527e-16</td> <td>    0.010</td> <td>-1.59e-14</td> <td> 1.000</td> <td>   -0.019</td> <td>    0.019</td>\n",
       "</tr>\n",
       "</table>\n",
       "<table class=\"simpletable\">\n",
       "<tr>\n",
       "  <th>Omnibus:</th>       <td>259.700</td> <th>  Durbin-Watson:     </th> <td>   2.100</td> \n",
       "</tr>\n",
       "<tr>\n",
       "  <th>Prob(Omnibus):</th> <td> 0.000</td>  <th>  Jarque-Bera (JB):  </th> <td> 880.151</td> \n",
       "</tr>\n",
       "<tr>\n",
       "  <th>Skew:</th>          <td> 1.530</td>  <th>  Prob(JB):          </th> <td>7.55e-192</td>\n",
       "</tr>\n",
       "<tr>\n",
       "  <th>Kurtosis:</th>      <td> 7.092</td>  <th>  Cond. No.          </th> <td>    1.76</td> \n",
       "</tr>\n",
       "</table><br/><br/>Notes:<br/>[1] Standard Errors assume that the covariance matrix of the errors is correctly specified."
      ],
      "text/plain": [
       "<class 'statsmodels.iolib.summary.Summary'>\n",
       "\"\"\"\n",
       "                            OLS Regression Results                            \n",
       "==============================================================================\n",
       "Dep. Variable:                      y   R-squared:                       0.927\n",
       "Model:                            OLS   Adj. R-squared:                  0.926\n",
       "Method:                 Least Squares   F-statistic:                     914.3\n",
       "Date:                Thu, 20 May 2021   Prob (F-statistic):               0.00\n",
       "Time:                        18:52:43   Log-Likelihood:                -91.602\n",
       "No. Observations:                 809   AIC:                             207.2\n",
       "Df Residuals:                     797   BIC:                             263.6\n",
       "Df Model:                          11                                         \n",
       "Covariance Type:            nonrobust                                         \n",
       "================================================================================\n",
       "                   coef    std err          t      P>|t|      [0.025      0.975]\n",
       "--------------------------------------------------------------------------------\n",
       "x1               0.9287      0.011     87.401      0.000       0.908       0.950\n",
       "x8              -0.0320      0.010     -3.073      0.002      -0.052      -0.012\n",
       "x9               0.0252      0.010      2.496      0.013       0.005       0.045\n",
       "x10              0.0373      0.010      3.696      0.000       0.017       0.057\n",
       "x14              0.0444      0.010      4.482      0.000       0.025       0.064\n",
       "x17              0.1272      0.010     12.495      0.000       0.107       0.147\n",
       "x13_Saturday    -0.0180      0.010     -1.831      0.067      -0.037       0.001\n",
       "x13_Thursday    -0.0077      0.010     -0.782      0.435      -0.027       0.012\n",
       "x13_Tuesday      0.0288      0.010      2.899      0.004       0.009       0.048\n",
       "x15_9E          -0.0217      0.010     -2.180      0.030      -0.041      -0.002\n",
       "x15_US           0.0776      0.010      7.686      0.000       0.058       0.097\n",
       "const        -1.527e-16      0.010  -1.59e-14      1.000      -0.019       0.019\n",
       "==============================================================================\n",
       "Omnibus:                      259.700   Durbin-Watson:                   2.100\n",
       "Prob(Omnibus):                  0.000   Jarque-Bera (JB):              880.151\n",
       "Skew:                           1.530   Prob(JB):                    7.55e-192\n",
       "Kurtosis:                       7.092   Cond. No.                         1.76\n",
       "==============================================================================\n",
       "\n",
       "Notes:\n",
       "[1] Standard Errors assume that the covariance matrix of the errors is correctly specified.\n",
       "\"\"\""
      ]
     },
     "execution_count": 12,
     "metadata": {},
     "output_type": "execute_result"
    }
   ],
   "source": [
    "train_df2 = train_df1.drop({'x5','x7'},axis= 1)\n",
    "dimensions_train_data = print(f'dimensions train data = {train_df2.shape}')\n",
    "\n",
    "\n",
    "Y=train_df[\"y\"]\n",
    "#train_df1=pd.get_dummies(train_df1)\n",
    "from sklearn.preprocessing import StandardScaler\n",
    "scalerX = StandardScaler()\n",
    "Xstand = scalerX.fit_transform(train_df2.values)\n",
    "scalerY = StandardScaler()\n",
    "Ystand = scalerY.fit_transform(Y.values.reshape(-1,1))\n",
    "Xstand=pd.DataFrame(Xstand)\n",
    "Xstand.columns=train_df2.columns\n",
    "Xstand.index=train_df2.index\n",
    "Ystand=pd.DataFrame(Ystand)\n",
    "Ystand.columns=[\"y\"]\n",
    "\n",
    "modele=sm.OLS(Ystand,Xstand.assign(const=1))\n",
    "resultats=modele.fit()\n",
    "Y_chap = resultats.predict(Xstand.assign(const=1))\n",
    "resultats.summary()\n",
    "\n",
    "\n",
    "\n",
    "#y_baseline = Y.mean()"
   ]
  },
  {
   "cell_type": "markdown",
   "id": "mechanical-savage",
   "metadata": {},
   "source": [
    "#### C - 4 Séléction des variables explicatives à base du tableau de synthése (seuil: p-value < 5%) - 4 ème itération (Aprés la supprission des variables dont leurs p-valus > 5%)"
   ]
  },
  {
   "cell_type": "code",
   "execution_count": 25,
   "id": "israeli-traffic",
   "metadata": {},
   "outputs": [
    {
     "name": "stdout",
     "output_type": "stream",
     "text": [
      "dimensions train data = (809, 9)\n"
     ]
    },
    {
     "data": {
      "text/html": [
       "<table class=\"simpletable\">\n",
       "<caption>OLS Regression Results</caption>\n",
       "<tr>\n",
       "  <th>Dep. Variable:</th>            <td>y</td>        <th>  R-squared:         </th> <td>   0.926</td>\n",
       "</tr>\n",
       "<tr>\n",
       "  <th>Model:</th>                   <td>OLS</td>       <th>  Adj. R-squared:    </th> <td>   0.925</td>\n",
       "</tr>\n",
       "<tr>\n",
       "  <th>Method:</th>             <td>Least Squares</td>  <th>  F-statistic:       </th> <td>   1115.</td>\n",
       "</tr>\n",
       "<tr>\n",
       "  <th>Date:</th>             <td>Thu, 20 May 2021</td> <th>  Prob (F-statistic):</th>  <td>  0.00</td> \n",
       "</tr>\n",
       "<tr>\n",
       "  <th>Time:</th>                 <td>19:48:14</td>     <th>  Log-Likelihood:    </th> <td> -93.453</td>\n",
       "</tr>\n",
       "<tr>\n",
       "  <th>No. Observations:</th>      <td>   809</td>      <th>  AIC:               </th> <td>   206.9</td>\n",
       "</tr>\n",
       "<tr>\n",
       "  <th>Df Residuals:</th>          <td>   799</td>      <th>  BIC:               </th> <td>   253.9</td>\n",
       "</tr>\n",
       "<tr>\n",
       "  <th>Df Model:</th>              <td>     9</td>      <th>                     </th>     <td> </td>   \n",
       "</tr>\n",
       "<tr>\n",
       "  <th>Covariance Type:</th>      <td>nonrobust</td>    <th>                     </th>     <td> </td>   \n",
       "</tr>\n",
       "</table>\n",
       "<table class=\"simpletable\">\n",
       "<tr>\n",
       "       <td></td>          <th>coef</th>     <th>std err</th>      <th>t</th>      <th>P>|t|</th>  <th>[0.025</th>    <th>0.975]</th>  \n",
       "</tr>\n",
       "<tr>\n",
       "  <th>x1</th>          <td>    0.9305</td> <td>    0.011</td> <td>   87.824</td> <td> 0.000</td> <td>    0.910</td> <td>    0.951</td>\n",
       "</tr>\n",
       "<tr>\n",
       "  <th>x8</th>          <td>   -0.0306</td> <td>    0.010</td> <td>   -2.944</td> <td> 0.003</td> <td>   -0.051</td> <td>   -0.010</td>\n",
       "</tr>\n",
       "<tr>\n",
       "  <th>x9</th>          <td>    0.0244</td> <td>    0.010</td> <td>    2.412</td> <td> 0.016</td> <td>    0.005</td> <td>    0.044</td>\n",
       "</tr>\n",
       "<tr>\n",
       "  <th>x10</th>         <td>    0.0375</td> <td>    0.010</td> <td>    3.719</td> <td> 0.000</td> <td>    0.018</td> <td>    0.057</td>\n",
       "</tr>\n",
       "<tr>\n",
       "  <th>x14</th>         <td>    0.0443</td> <td>    0.010</td> <td>    4.481</td> <td> 0.000</td> <td>    0.025</td> <td>    0.064</td>\n",
       "</tr>\n",
       "<tr>\n",
       "  <th>x17</th>         <td>    0.1282</td> <td>    0.010</td> <td>   12.602</td> <td> 0.000</td> <td>    0.108</td> <td>    0.148</td>\n",
       "</tr>\n",
       "<tr>\n",
       "  <th>x13_Tuesday</th> <td>    0.0323</td> <td>    0.010</td> <td>    3.333</td> <td> 0.001</td> <td>    0.013</td> <td>    0.051</td>\n",
       "</tr>\n",
       "<tr>\n",
       "  <th>x15_9E</th>      <td>   -0.0216</td> <td>    0.010</td> <td>   -2.172</td> <td> 0.030</td> <td>   -0.041</td> <td>   -0.002</td>\n",
       "</tr>\n",
       "<tr>\n",
       "  <th>x15_US</th>      <td>    0.0795</td> <td>    0.010</td> <td>    7.909</td> <td> 0.000</td> <td>    0.060</td> <td>    0.099</td>\n",
       "</tr>\n",
       "<tr>\n",
       "  <th>const</th>       <td>-1.076e-16</td> <td>    0.010</td> <td>-1.12e-14</td> <td> 1.000</td> <td>   -0.019</td> <td>    0.019</td>\n",
       "</tr>\n",
       "</table>\n",
       "<table class=\"simpletable\">\n",
       "<tr>\n",
       "  <th>Omnibus:</th>       <td>255.852</td> <th>  Durbin-Watson:     </th> <td>   2.107</td> \n",
       "</tr>\n",
       "<tr>\n",
       "  <th>Prob(Omnibus):</th> <td> 0.000</td>  <th>  Jarque-Bera (JB):  </th> <td> 849.473</td> \n",
       "</tr>\n",
       "<tr>\n",
       "  <th>Skew:</th>          <td> 1.515</td>  <th>  Prob(JB):          </th> <td>3.46e-185</td>\n",
       "</tr>\n",
       "<tr>\n",
       "  <th>Kurtosis:</th>      <td> 7.003</td>  <th>  Cond. No.          </th> <td>    1.73</td> \n",
       "</tr>\n",
       "</table><br/><br/>Notes:<br/>[1] Standard Errors assume that the covariance matrix of the errors is correctly specified."
      ],
      "text/plain": [
       "<class 'statsmodels.iolib.summary.Summary'>\n",
       "\"\"\"\n",
       "                            OLS Regression Results                            \n",
       "==============================================================================\n",
       "Dep. Variable:                      y   R-squared:                       0.926\n",
       "Model:                            OLS   Adj. R-squared:                  0.925\n",
       "Method:                 Least Squares   F-statistic:                     1115.\n",
       "Date:                Thu, 20 May 2021   Prob (F-statistic):               0.00\n",
       "Time:                        19:48:14   Log-Likelihood:                -93.453\n",
       "No. Observations:                 809   AIC:                             206.9\n",
       "Df Residuals:                     799   BIC:                             253.9\n",
       "Df Model:                           9                                         \n",
       "Covariance Type:            nonrobust                                         \n",
       "===============================================================================\n",
       "                  coef    std err          t      P>|t|      [0.025      0.975]\n",
       "-------------------------------------------------------------------------------\n",
       "x1              0.9305      0.011     87.824      0.000       0.910       0.951\n",
       "x8             -0.0306      0.010     -2.944      0.003      -0.051      -0.010\n",
       "x9              0.0244      0.010      2.412      0.016       0.005       0.044\n",
       "x10             0.0375      0.010      3.719      0.000       0.018       0.057\n",
       "x14             0.0443      0.010      4.481      0.000       0.025       0.064\n",
       "x17             0.1282      0.010     12.602      0.000       0.108       0.148\n",
       "x13_Tuesday     0.0323      0.010      3.333      0.001       0.013       0.051\n",
       "x15_9E         -0.0216      0.010     -2.172      0.030      -0.041      -0.002\n",
       "x15_US          0.0795      0.010      7.909      0.000       0.060       0.099\n",
       "const       -1.076e-16      0.010  -1.12e-14      1.000      -0.019       0.019\n",
       "==============================================================================\n",
       "Omnibus:                      255.852   Durbin-Watson:                   2.107\n",
       "Prob(Omnibus):                  0.000   Jarque-Bera (JB):              849.473\n",
       "Skew:                           1.515   Prob(JB):                    3.46e-185\n",
       "Kurtosis:                       7.003   Cond. No.                         1.73\n",
       "==============================================================================\n",
       "\n",
       "Notes:\n",
       "[1] Standard Errors assume that the covariance matrix of the errors is correctly specified.\n",
       "\"\"\""
      ]
     },
     "execution_count": 25,
     "metadata": {},
     "output_type": "execute_result"
    }
   ],
   "source": [
    "train_df3 = train_df2.drop({'x13_Thursday','x13_Saturday'},axis= 1)\n",
    "dimensions_train_data = print(f'dimensions train data = {train_df3.shape}')\n",
    "\n",
    "\n",
    "Y=train_df[\"y\"]\n",
    "#train_df1=pd.get_dummies(train_df1)\n",
    "from sklearn.preprocessing import StandardScaler\n",
    "scalerX = StandardScaler()\n",
    "Xstand = scalerX.fit_transform(train_df3.values)\n",
    "scalerY = StandardScaler()\n",
    "Ystand = scalerY.fit_transform(Y.values.reshape(-1,1))\n",
    "Xstand=pd.DataFrame(Xstand)\n",
    "Xstand.columns=train_df3.columns\n",
    "Xstand.index=train_df3.index\n",
    "Ystand=pd.DataFrame(Ystand)\n",
    "Ystand.columns=[\"y\"]\n",
    "\n",
    "modele=sm.OLS(Ystand,Xstand.assign(const=1))\n",
    "resultats=modele.fit()\n",
    "Y_chap = resultats.predict(Xstand.assign(const=1))\n",
    "resultats.summary()"
   ]
  },
  {
   "cell_type": "markdown",
   "id": "certified-emergency",
   "metadata": {},
   "source": [
    "#### D Standarisation et découpage des données (partie entrainement-->70% et partie test-->30%)"
   ]
  },
  {
   "cell_type": "code",
   "execution_count": 195,
   "id": "removable-briefing",
   "metadata": {
    "scrolled": true
   },
   "outputs": [
    {
     "data": {
      "text/plain": [
       "9"
      ]
     },
     "execution_count": 195,
     "metadata": {},
     "output_type": "execute_result"
    }
   ],
   "source": [
    "scalerX = StandardScaler()\n",
    "Xstand = scalerX.fit_transform(train_df3.values)\n",
    "scalerY = StandardScaler()\n",
    "Ystand = scalerY.fit_transform(Y.values.reshape(-1,1))\n",
    "# split into train and test\n",
    "X_train, X_test, y_train, y_test = train_test_split(Xstand, Ystand, \n",
    "                                                    train_size=0.7,\n",
    "                                                    test_size = 0.3, random_state=40)\n",
    "\n",
    "# number of features\n",
    "X_train.shape[1]\n",
    " \n",
    " "
   ]
  },
  {
   "cell_type": "markdown",
   "id": "nuclear-spelling",
   "metadata": {},
   "source": [
    "### E - Création modéle de regression linéaire à base des 9 variables pertinentes\n",
    "référence: https://www.kaggle.com/jnikhilsai/cross-validation-with-linear-regression"
   ]
  },
  {
   "cell_type": "code",
   "execution_count": null,
   "id": "adjacent-novel",
   "metadata": {},
   "outputs": [],
   "source": [
    "\n",
    "# creating a KFold object with 5 splits \n",
    "folds = KFold(n_splits = 5, shuffle = True, random_state = 100)\n",
    "# specify range of hyperparameters\n",
    "hyper_params = [{'n_features_to_select': list(range(0, 9))}]\n",
    " #specify model\n",
    "lm = LinearRegression()\n",
    "lm.fit(X_train, y_train)\n",
    "rfe = RFE(lm)             \n",
    "\n",
    "# set up GridSearchCV()\n",
    "model_cv = GridSearchCV(estimator = rfe, \n",
    "                        param_grid = hyper_params, \n",
    "                        scoring= 'r2', \n",
    "                        cv = folds, \n",
    "                        verbose = 1,\n",
    "                        return_train_score=True)      \n",
    "\n",
    "# fit the model\n",
    "model_cv.fit(X_train, y_train) "
   ]
  },
  {
   "cell_type": "code",
   "execution_count": 173,
   "id": "forward-shepherd",
   "metadata": {},
   "outputs": [],
   "source": [
    "# cv results\n",
    "cv_results = pd.DataFrame(model_cv.cv_results_)"
   ]
  },
  {
   "cell_type": "markdown",
   "id": "chief-firewall",
   "metadata": {},
   "source": [
    "### F  - Représentation graphique des résultats de simulation"
   ]
  },
  {
   "cell_type": "code",
   "execution_count": 231,
   "id": "defined-collectible",
   "metadata": {},
   "outputs": [
    {
     "data": {
      "text/plain": [
       "<matplotlib.legend.Legend at 0x125d7b520>"
      ]
     },
     "execution_count": 231,
     "metadata": {},
     "output_type": "execute_result"
    },
    {
     "data": {
      "image/png": "[encoded data removed]",
      "text/plain": [
       "<Figure size 1152x432 with 1 Axes>"
      ]
     },
     "metadata": {
      "needs_background": "light"
     },
     "output_type": "display_data"
    }
   ],
   "source": [
    "# plotting cv results\n",
    "plt.figure(figsize=(16,6))\n",
    "\n",
    "plt.plot(cv_results[\"param_n_features_to_select\"], cv_results[\"mean_test_score\"])\n",
    "plt.plot(cv_results[\"param_n_features_to_select\"], cv_results[\"mean_train_score\"])\n",
    "plt.xlabel('nombre des variables')\n",
    "plt.ylabel('r-squared')\n",
    "plt.title(\"Nombre optimal des variables\")\n",
    "plt.legend(['test score', 'train score'], loc='upper left')"
   ]
  },
  {
   "cell_type": "markdown",
   "id": "interracial-eugene",
   "metadata": {},
   "source": [
    "#### Conclusion :  la simulation à base du modéle de la régression multiples montre que 7 variables est optimal pour avoir un bon score, effectivement le calcul du coifficient de détermination R*R est pertient avec 7 variables "
   ]
  },
  {
   "cell_type": "code",
   "execution_count": 197,
   "id": "verified-christianity",
   "metadata": {},
   "outputs": [
    {
     "name": "stdout",
     "output_type": "stream",
     "text": [
      "0.9019390360686509\n"
     ]
    }
   ],
   "source": [
    "# final model\n",
    "n_features_optimal = 7\n",
    "\n",
    "lm = LinearRegression()\n",
    "lm.fit(X_train, y_train)\n",
    "\n",
    "rfe = RFE(lm, n_features_to_select=n_features_optimal)             \n",
    "rfe = rfe.fit(X_train, y_train)\n",
    "\n",
    "# predict prices of X_test\n",
    "y_pred = lm.predict(X_test)\n",
    "r2 = sklearn.metrics.r2_score(y_test, y_pred)\n",
    "print(r2)"
   ]
  },
  {
   "cell_type": "markdown",
   "id": "charming-thickness",
   "metadata": {},
   "source": [
    "### G  - Le modéle de k-plus proches voisins avec 10 plies"
   ]
  },
  {
   "cell_type": "code",
   "execution_count": 237,
   "id": "partial-instruction",
   "metadata": {},
   "outputs": [],
   "source": [
    "X_train, X_test, y_train, y_test = train_test_split(Xstand, Ystand, \n",
    "                                                    train_size=0.7,\n",
    "                                                    test_size = 0.3, random_state=50)\n",
    "\n",
    "from sklearn.model_selection import KFold\n",
    "def KNeighborsRegressorCV(k):\n",
    "    history = defaultdict(list)\n",
    "    kf = KFold(n_splits=10)\n",
    "    \n",
    "\n",
    "    for train_index, val_index in kf.split(X_train):\n",
    "    \n",
    "        x_cv_train, x_cv_val = X_train[train_index,:], X_train[val_index,:]\n",
    "        y_cv_train, y_cv_val = y_train[train_index], y_train[val_index]\n",
    "        neigh = KNeighborsRegressor(n_neighbors=k)\n",
    "        neigh.fit(x_cv_train, y_cv_train)\n",
    "         #Record performances par plis\n",
    "        neigh.score(x_cv_train, y_cv_train)\n",
    "        history['train'].append(neigh.score(x_cv_train, y_cv_train))\n",
    "        history['val'].append(neigh.score(x_cv_val, y_cv_val))\n",
    "        return np.mean(history['train']), np.mean(history['val'])\n",
    "\n",
    "history = defaultdict(list)\n",
    "for k in range(1, 8):\n",
    "    t, v = KNeighborsRegressorCV(k)\n",
    "    history['train'].append(t)\n",
    "    history['val'].append(v)"
   ]
  },
  {
   "cell_type": "code",
   "execution_count": 238,
   "id": "recent-measurement",
   "metadata": {},
   "outputs": [
    {
     "data": {
      "text/plain": [
       "<matplotlib.legend.Legend at 0x125c58f70>"
      ]
     },
     "execution_count": 238,
     "metadata": {},
     "output_type": "execute_result"
    },
    {
     "data": {
      "image/png": "[encoded data removed]",
      "text/plain": [
       "<Figure size 432x288 with 1 Axes>"
      ]
     },
     "metadata": {
      "needs_background": "light"
     },
     "output_type": "display_data"
    }
   ],
   "source": [
    "f, ax = plt.subplots(1,1)\n",
    "ax.plot(range(1, 8), history['train'], label=\"train\")\n",
    "ax.plot(range(1, 8), history['val'], label=\"test\")\n",
    "ax.set_xlabel('k', fontsize=15)\n",
    "ax.set_ylabel('accuracy', fontsize=15)\n",
    "ax.legend()"
   ]
  },
  {
   "cell_type": "code",
   "execution_count": 169,
   "id": "continent-manual",
   "metadata": {},
   "outputs": [
    {
     "data": {
      "text/plain": [
       "0.8215903097967148"
      ]
     },
     "execution_count": 169,
     "metadata": {},
     "output_type": "execute_result"
    }
   ],
   "source": [
    "neigh = KNeighborsRegressor(n_neighbors=6)\n",
    "neigh.fit(Xstand, Ystand)\n",
    "neigh.score(Xstand, Ystand)"
   ]
  },
  {
   "cell_type": "code",
   "execution_count": 172,
   "id": "advanced-typing",
   "metadata": {},
   "outputs": [
    {
     "data": {
      "text/plain": [
       "0.7406933522177525"
      ]
     },
     "execution_count": 172,
     "metadata": {},
     "output_type": "execute_result"
    }
   ],
   "source": [
    "neigh_best = KNeighborsRegressor(n_neighbors=6).fit(X_train, y_train)\n",
    "neigh_best.score(X_test, y_test)"
   ]
  },
  {
   "cell_type": "markdown",
   "id": "muslim-beads",
   "metadata": {},
   "source": [
    "## Conclusion: Il s'est avéré que le modéle donne le meilleur résultat avec (k=1) proches voisins avec un score moins que celui obtenu avec le modéle de la régression linaire multiples"
   ]
  },
  {
   "cell_type": "code",
   "execution_count": 232,
   "id": "packed-bearing",
   "metadata": {},
   "outputs": [],
   "source": [
    "train_cols =['x1','x2','x3','x4','x5','x6','x7','x8','x9','x10','x11','x12','x13','x14','x15','x16','x17','x18','x19']\n",
    "test_df = pd.read_csv('test.csv', usecols = train_cols)"
   ]
  },
  {
   "cell_type": "code",
   "execution_count": 219,
   "id": "variable-cooking",
   "metadata": {},
   "outputs": [],
   "source": [
    "test_df = pd.get_dummies(test_df)\n",
    "\n",
    "Test_dummies = pd.get_dummies(test_df)\n",
    "X_selection = Test_dummies[['x1','x8','x9','x10','x14','x17','x13_Tuesday','x15_9E','x15_US']].values"
   ]
  },
  {
   "cell_type": "code",
   "execution_count": 225,
   "id": "legitimate-calculation",
   "metadata": {},
   "outputs": [],
   "source": [
    "X_selection_scaled = scalerX.transform(X_selection)\n",
    "predictionY = model_cv.predict(X_selection_scaled)"
   ]
  },
  {
   "cell_type": "markdown",
   "id": "processed-newspaper",
   "metadata": {},
   "source": [
    "### H - Génération du fichier de prédiction avec le modéle retenu (regression linaire multiple)"
   ]
  },
  {
   "cell_type": "code",
   "execution_count": 227,
   "id": "distributed-baking",
   "metadata": {},
   "outputs": [],
   "source": [
    "Pred =pd.DataFrame(predictionY, columns=['predictionY'])"
   ]
  },
  {
   "cell_type": "code",
   "execution_count": 229,
   "id": "preceding-farmer",
   "metadata": {},
   "outputs": [],
   "source": [
    "Pred.to_csv('Pred.csv')"
   ]
  }
 ],
 "metadata": {
  "kernelspec": {
   "display_name": "Python 3",
   "language": "python",
   "name": "python3"
  },
  "language_info": {
   "codemirror_mode": {
    "name": "ipython",
    "version": 3
   },
   "file_extension": ".py",
   "mimetype": "text/x-python",
   "name": "python",
   "nbconvert_exporter": "python",
   "pygments_lexer": "ipython3",
   "version": "3.8.5"
  }
 },
 "nbformat": 4,
 "nbformat_minor": 5
}
